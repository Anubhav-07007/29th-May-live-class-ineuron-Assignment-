{
 "cells": [
  {
   "cell_type": "code",
   "execution_count": 1,
   "id": "d61c917a",
   "metadata": {},
   "outputs": [],
   "source": [
    "import gtts\n",
    "\n",
    "from playsound import playsound"
   ]
  },
  {
   "cell_type": "code",
   "execution_count": 2,
   "id": "7b1536c3",
   "metadata": {},
   "outputs": [],
   "source": [
    "test1=gtts.gTTS('How are you today')\n",
    "test1.save('how are you today.mp3')\n",
    "playsound('how are you today.mp3')"
   ]
  },
  {
   "cell_type": "code",
   "execution_count": 3,
   "id": "b7a62865",
   "metadata": {},
   "outputs": [],
   "source": [
    "test2=gtts.gTTS('Welcome')\n",
    "test2.save('Welcome.mp3')\n",
    "playsound('Welcome.mp3')"
   ]
  },
  {
   "cell_type": "code",
   "execution_count": 4,
   "id": "1d55489a",
   "metadata": {},
   "outputs": [
    {
     "name": "stdout",
     "output_type": "stream",
     "text": [
      "Enter number of rows : 9\n",
      "* \n",
      "* * \n",
      "* * * \n",
      "* * * * \n",
      "* * * * * \n",
      "* * * * * * \n",
      "* * * * * * * \n",
      "* * * * * * * * \n",
      "* * * * * * * * * \n"
     ]
    }
   ],
   "source": [
    "n = int(input('Enter number of rows : '))\n",
    " \n",
    "i = 1\n",
    "while i <= n :\n",
    "    j = 1\n",
    "    while j <= i:\n",
    "        print(\"*\", end = \" \")\n",
    "        j += 1\n",
    "    print()\n",
    "    i += 1"
   ]
  },
  {
   "cell_type": "code",
   "execution_count": 5,
   "id": "db314b18",
   "metadata": {},
   "outputs": [
    {
     "data": {
      "text/plain": [
       "'B'"
      ]
     },
     "execution_count": 5,
     "metadata": {},
     "output_type": "execute_result"
    }
   ],
   "source": [
    "chr(64+2)"
   ]
  },
  {
   "cell_type": "code",
   "execution_count": 6,
   "id": "004c98e9",
   "metadata": {},
   "outputs": [
    {
     "name": "stdout",
     "output_type": "stream",
     "text": [
      "A \r\n",
      "B H \r\n",
      "C I N \r\n",
      "D J O S \r\n",
      "E K P T W \r\n",
      "F L Q U X Z \r\n",
      "G M R V Y [ \\ \r\n"
     ]
    }
   ],
   "source": [
    "# Outer loop\n",
    "n = 7\n",
    "i = 1\n",
    "while(i<=n):\n",
    "  k = i\n",
    "  j = 1\n",
    "  while(j<=i):\n",
    "    print(chr(64+k),end = \" \")\n",
    "    k = k + n - j\n",
    "    j = j + 1\n",
    "  print(\"\\r\")\n",
    "  i = i + 1"
   ]
  },
  {
   "cell_type": "code",
   "execution_count": 7,
   "id": "8ab7e13d",
   "metadata": {},
   "outputs": [
    {
     "data": {
      "text/plain": [
       "True"
      ]
     },
     "execution_count": 7,
     "metadata": {},
     "output_type": "execute_result"
    }
   ],
   "source": [
    "1<=2"
   ]
  },
  {
   "cell_type": "code",
   "execution_count": 8,
   "id": "1f6186b6",
   "metadata": {},
   "outputs": [
    {
     "name": "stdout",
     "output_type": "stream",
     "text": [
      "A \n",
      "B H \n",
      "C I N \n",
      "D J O S \n",
      "E K P T W \n",
      "F L Q U X Z \n",
      "G M R V Y [ \\ \n"
     ]
    }
   ],
   "source": [
    "n=7\n",
    "i=1\n",
    "\n",
    "while i<=n:\n",
    "    j=1\n",
    "    k=i\n",
    "    while j<=i:\n",
    "        print(chr(64+k),end=' ')\n",
    "        k=k+n-j\n",
    "        j=j+1\n",
    "    print()\n",
    "    i=i+1"
   ]
  },
  {
   "cell_type": "code",
   "execution_count": 9,
   "id": "1a6a8ead",
   "metadata": {},
   "outputs": [
    {
     "name": "stdout",
     "output_type": "stream",
     "text": [
      "42\n",
      "45\n",
      "48\n",
      "51\n",
      "54\n",
      "57\n",
      "60\n",
      "63\n",
      "66\n",
      "69\n",
      "72\n",
      "75\n",
      "78\n",
      "81\n",
      "84\n",
      "87\n",
      "90\n",
      "93\n",
      "96\n",
      "99\n",
      "102\n",
      "105\n",
      "108\n",
      "111\n",
      "114\n",
      "117\n",
      "120\n",
      "123\n",
      "126\n",
      "129\n",
      "132\n",
      "135\n",
      "138\n",
      "141\n",
      "144\n",
      "147\n",
      "150\n",
      "153\n",
      "156\n",
      "159\n",
      "162\n",
      "165\n",
      "168\n",
      "171\n",
      "174\n",
      "177\n",
      "180\n",
      "183\n",
      "186\n",
      "189\n",
      "192\n",
      "195\n",
      "198\n",
      "201\n",
      "204\n",
      "207\n",
      "210\n",
      "213\n",
      "216\n",
      "219\n",
      "222\n",
      "225\n",
      "228\n",
      "231\n",
      "234\n",
      "237\n",
      "240\n",
      "243\n",
      "246\n",
      "249\n",
      "252\n",
      "255\n",
      "258\n",
      "261\n",
      "264\n",
      "267\n",
      "270\n",
      "273\n",
      "276\n",
      "279\n",
      "282\n",
      "285\n",
      "288\n",
      "291\n",
      "294\n",
      "297\n",
      "300\n",
      "303\n",
      "306\n",
      "309\n",
      "312\n",
      "315\n",
      "318\n",
      "321\n",
      "324\n",
      "327\n",
      "330\n",
      "333\n",
      "336\n",
      "339\n",
      "342\n",
      "345\n",
      "348\n",
      "351\n",
      "354\n",
      "357\n",
      "360\n",
      "363\n",
      "366\n",
      "369\n",
      "372\n",
      "375\n",
      "378\n",
      "381\n",
      "384\n",
      "387\n",
      "390\n",
      "393\n",
      "396\n",
      "399\n"
     ]
    }
   ],
   "source": [
    "for i in range(40,400+1):\n",
    "    if i%3==0:\n",
    "      print(i)"
   ]
  },
  {
   "cell_type": "code",
   "execution_count": 10,
   "id": "d4dd5eb3",
   "metadata": {},
   "outputs": [],
   "source": [
    "#q4 : Try to filter out all the vowels form below text by using while loop : \n",
    "str=\"\"\"Python is a high-level, interpreted, general-purpose programming language. Its design philosophy emphasizes code readability with the use of significant indentation.[32]\n",
    "Python is dynamically-typed and garbage-collected. It supports multiple programming paradigms, including structured (particularly procedural), object-oriented and functional programming. It is often described as a \"batteries included\" language due to its comprehensive standard library.[33][34]\n",
    "Guido van Rossum began working on Python in the late 1980s as a successor to the ABC programming language and first released it in 1991 as Python 0.9.0.[35] Python 2.0 was released in 2000 and introduced new features such as list comprehensions, cycle-detecting garbage collection, reference counting, and Unicode support. Python 3.0, released in 2008, was a major revision that is not completely backward-compatible with earlier versions. Python 2 was discontinued with version 2.7.18 in 2020.[36]\n",
    "Python consistently ranks as one of the most popular programming languagesc\"\"\" \n",
    "\n",
    "def witout_vowel(c):\n",
    "    new_string=c\n",
    "    vowels=('a','e','i','o','u')\n",
    "    a=0\n",
    "    \n",
    "    while a<=len(str)-1:\n",
    "        if str[a].lower() in vowels:\n",
    "            new_string=new_string.replace(str[a],'')\n",
    "        a=a+1\n",
    "    return new_string\n",
    "\n",
    "def without_v(c):\n",
    "    new_string=c\n",
    "    vowels=\"aeiou\"\n",
    "    i=0\n",
    "    \n",
    "    while i<=len(str)-1:\n",
    "        if str[i] in vowels:\n",
    "            new_string=new_string.replace(str[i],\"\")\n",
    "        i=i+1\n",
    "    return new_string\n"
   ]
  },
  {
   "cell_type": "code",
   "execution_count": 11,
   "id": "1e73a460",
   "metadata": {},
   "outputs": [],
   "source": [
    "def without_v(c):\n",
    "    new_string=c\n",
    "    vowels=\"aeiou\"\n",
    "    i=0\n",
    "    \n",
    "    while i<=len(str)-1:\n",
    "        if str[i] in vowels:\n",
    "            new_string=new_string.replace(str[i],\"\")\n",
    "        i=i+1\n",
    "    return new_string"
   ]
  },
  {
   "cell_type": "code",
   "execution_count": 12,
   "id": "89c9bb1e",
   "metadata": {},
   "outputs": [
    {
     "data": {
      "text/plain": [
       "'Pythn s  hgh-lvl, ntrprtd, gnrl-prps prgrmmng lngg. Its dsgn phlsphy mphszs cd rdblty wth th s f sgnfcnt ndnttn.[32]\\nPythn s dynmclly-typd nd grbg-cllctd. It spprts mltpl prgrmmng prdgms, ncldng strctrd (prtclrly prcdrl), bjct-rntd nd fnctnl prgrmmng. It s ftn dscrbd s  \"bttrs ncldd\" lngg d t ts cmprhnsv stndrd lbrry.[33][34]\\nGd vn Rssm bgn wrkng n Pythn n th lt 1980s s  sccssr t th ABC prgrmmng lngg nd frst rlsd t n 1991 s Pythn 0.9.0.[35] Pythn 2.0 ws rlsd n 2000 nd ntrdcd nw ftrs sch s lst cmprhnsns, cycl-dtctng grbg cllctn, rfrnc cntng, nd Uncd spprt. Pythn 3.0, rlsd n 2008, ws  mjr rvsn tht s nt cmpltly bckwrd-cmptbl wth rlr vrsns. Pythn 2 ws dscntnd wth vrsn 2.7.18 n 2020.[36]\\nPythn cnsstntly rnks s n f th mst pplr prgrmmng lnggsc'"
      ]
     },
     "execution_count": 12,
     "metadata": {},
     "output_type": "execute_result"
    }
   ],
   "source": [
    "without_v(str)"
   ]
  },
  {
   "cell_type": "code",
   "execution_count": 13,
   "id": "c9606822",
   "metadata": {},
   "outputs": [
    {
     "data": {
      "text/plain": [
       "'Pythn s  hgh-lvl, ntrprtd, gnrl-prps prgrmmng lngg. ts dsgn phlsphy mphszs cd rdblty wth th s f sgnfcnt ndnttn.[32]\\nPythn s dynmclly-typd nd grbg-cllctd. t spprts mltpl prgrmmng prdgms, ncldng strctrd (prtclrly prcdrl), bjct-rntd nd fnctnl prgrmmng. t s ftn dscrbd s  \"bttrs ncldd\" lngg d t ts cmprhnsv stndrd lbrry.[33][34]\\nGd vn Rssm bgn wrkng n Pythn n th lt 1980s s  sccssr t th BC prgrmmng lngg nd frst rlsd t n 1991 s Pythn 0.9.0.[35] Pythn 2.0 ws rlsd n 2000 nd ntrdcd nw ftrs sch s lst cmprhnsns, cycl-dtctng grbg cllctn, rfrnc cntng, nd ncd spprt. Pythn 3.0, rlsd n 2008, ws  mjr rvsn tht s nt cmpltly bckwrd-cmptbl wth rlr vrsns. Pythn 2 ws dscntnd wth vrsn 2.7.18 n 2020.[36]\\nPythn cnsstntly rnks s n f th mst pplr prgrmmng lnggsc'"
      ]
     },
     "execution_count": 13,
     "metadata": {},
     "output_type": "execute_result"
    }
   ],
   "source": [
    "witout_vowel(str)"
   ]
  },
  {
   "cell_type": "markdown",
   "id": "2a535360",
   "metadata": {},
   "source": [
    "\n",
    "q5 : Try to generate all the even number between 1- 1000"
   ]
  },
  {
   "cell_type": "code",
   "execution_count": 14,
   "id": "440c3778",
   "metadata": {},
   "outputs": [
    {
     "name": "stdout",
     "output_type": "stream",
     "text": [
      "[2, 4, 6, 8, 10, 12, 14, 16, 18, 20, 22, 24, 26, 28, 30, 32, 34, 36, 38, 40, 42, 44, 46, 48, 50, 52, 54, 56, 58, 60, 62, 64, 66, 68, 70, 72, 74, 76, 78, 80, 82, 84, 86, 88, 90, 92, 94, 96, 98, 100, 102, 104, 106, 108, 110, 112, 114, 116, 118, 120, 122, 124, 126, 128, 130, 132, 134, 136, 138, 140, 142, 144, 146, 148, 150, 152, 154, 156, 158, 160, 162, 164, 166, 168, 170, 172, 174, 176, 178, 180, 182, 184, 186, 188, 190, 192, 194, 196, 198, 200, 202, 204, 206, 208, 210, 212, 214, 216, 218, 220, 222, 224, 226, 228, 230, 232, 234, 236, 238, 240, 242, 244, 246, 248, 250, 252, 254, 256, 258, 260, 262, 264, 266, 268, 270, 272, 274, 276, 278, 280, 282, 284, 286, 288, 290, 292, 294, 296, 298, 300, 302, 304, 306, 308, 310, 312, 314, 316, 318, 320, 322, 324, 326, 328, 330, 332, 334, 336, 338, 340, 342, 344, 346, 348, 350, 352, 354, 356, 358, 360, 362, 364, 366, 368, 370, 372, 374, 376, 378, 380, 382, 384, 386, 388, 390, 392, 394, 396, 398, 400, 402, 404, 406, 408, 410, 412, 414, 416, 418, 420, 422, 424, 426, 428, 430, 432, 434, 436, 438, 440, 442, 444, 446, 448, 450, 452, 454, 456, 458, 460, 462, 464, 466, 468, 470, 472, 474, 476, 478, 480, 482, 484, 486, 488, 490, 492, 494, 496, 498, 500, 502, 504, 506, 508, 510, 512, 514, 516, 518, 520, 522, 524, 526, 528, 530, 532, 534, 536, 538, 540, 542, 544, 546, 548, 550, 552, 554, 556, 558, 560, 562, 564, 566, 568, 570, 572, 574, 576, 578, 580, 582, 584, 586, 588, 590, 592, 594, 596, 598, 600, 602, 604, 606, 608, 610, 612, 614, 616, 618, 620, 622, 624, 626, 628, 630, 632, 634, 636, 638, 640, 642, 644, 646, 648, 650, 652, 654, 656, 658, 660, 662, 664, 666, 668, 670, 672, 674, 676, 678, 680, 682, 684, 686, 688, 690, 692, 694, 696, 698, 700, 702, 704, 706, 708, 710, 712, 714, 716, 718, 720, 722, 724, 726, 728, 730, 732, 734, 736, 738, 740, 742, 744, 746, 748, 750, 752, 754, 756, 758, 760, 762, 764, 766, 768, 770, 772, 774, 776, 778, 780, 782, 784, 786, 788, 790, 792, 794, 796, 798, 800, 802, 804, 806, 808, 810, 812, 814, 816, 818, 820, 822, 824, 826, 828, 830, 832, 834, 836, 838, 840, 842, 844, 846, 848, 850, 852, 854, 856, 858, 860, 862, 864, 866, 868, 870, 872, 874, 876, 878, 880, 882, 884, 886, 888, 890, 892, 894, 896, 898, 900, 902, 904, 906, 908, 910, 912, 914, 916, 918, 920, 922, 924, 926, 928, 930, 932, 934, 936, 938, 940, 942, 944, 946, 948, 950, 952, 954, 956, 958, 960, 962, 964, 966, 968, 970, 972, 974, 976, 978, 980, 982, 984, 986, 988, 990, 992, 994, 996, 998]\n"
     ]
    }
   ],
   "source": [
    "l=[]\n",
    "for i in range(1,1000):\n",
    "    if i%2==0:\n",
    "        l.append(i)\n",
    "print(l)"
   ]
  },
  {
   "cell_type": "markdown",
   "id": "50bdeac5",
   "metadata": {},
   "source": [
    "\n",
    "q6 : Define a function for all the above problem statememnt  "
   ]
  },
  {
   "cell_type": "code",
   "execution_count": 15,
   "id": "0db648bc",
   "metadata": {},
   "outputs": [
    {
     "name": "stdout",
     "output_type": "stream",
     "text": [
      "* \n",
      "* * \n",
      "* * * \n",
      "* * * * \n",
      "* * * * * \n",
      "* * * * * * \n",
      "* * * * * * * \n",
      "* * * * * * * * \n"
     ]
    },
    {
     "data": {
      "text/plain": [
       "[0, 2, 4, 6, 8]"
      ]
     },
     "execution_count": 15,
     "metadata": {},
     "output_type": "execute_result"
    }
   ],
   "source": [
    "def print_patter(n):\n",
    "    \n",
    "    i=1 \n",
    "    while i<=n:\n",
    "        j=1\n",
    "        while j<=i:\n",
    "            print('*',end=' ')\n",
    "            j=j+1\n",
    "        print()\n",
    "        i=i+1\n",
    "print_patter(8)\n",
    "\n",
    "\n",
    "def even_number(n):\n",
    "    l=[]\n",
    "    for i in range(n):\n",
    "        if i%2==0:\n",
    "            l.append(i)\n",
    "    return l\n",
    "\n",
    "even_number(10)"
   ]
  },
  {
   "cell_type": "markdown",
   "id": "45ff6191",
   "metadata": {},
   "source": [
    "write a code to get a time of your system "
   ]
  },
  {
   "cell_type": "code",
   "execution_count": 16,
   "id": "b31e35e7",
   "metadata": {},
   "outputs": [
    {
     "name": "stdout",
     "output_type": "stream",
     "text": [
      "This is current data and time 2022-06-02 12:06:28.145612\n"
     ]
    }
   ],
   "source": [
    "import datetime\n",
    "\n",
    "present=datetime.datetime.now()\n",
    "print(\"This is current data and time {}\".format(present))"
   ]
  },
  {
   "cell_type": "markdown",
   "id": "2ae323b1",
   "metadata": {},
   "source": [
    "write a code to trigger alarm for you at scheduled time "
   ]
  },
  {
   "cell_type": "code",
   "execution_count": 17,
   "id": "77949a6e",
   "metadata": {},
   "outputs": [
    {
     "name": "stdout",
     "output_type": "stream",
     "text": [
      "Enter the hour: 10\n",
      "Enter the minutes: 12\n",
      "Enter the am or pm: am\n",
      "Wating for alarm : 10 12 am\n"
     ]
    }
   ],
   "source": [
    "import os\n",
    "import datetime\n",
    "from playsound import playsound\n",
    "import gtts\n",
    "\n",
    "\n",
    "alarmH=int(input(\"Enter the hour: \"))\n",
    "alramM=int(input(\"Enter the minutes: \"))\n",
    "ampm=input(\"Enter the am or pm: \")\n",
    "\n",
    "print('Wating for alarm :',alarmH,alramM,ampm)\n",
    "\n",
    "if ampm=='pm':\n",
    "    alarmH=alarmH+12\n",
    "    \n",
    "    while(1==1):\n",
    "        if (alarmH==datetime.datetime.now().hour and\n",
    "            alramM==datetime.datetime.now().minute):\n",
    "                a=gtts.gTTS('Time to wake up')\n",
    "                a.save('Time to wake up.mp3')\n",
    "                playsound('Time to wake up.mp3')\n",
    "                break"
   ]
  },
  {
   "cell_type": "code",
   "execution_count": 18,
   "id": "ae00482f",
   "metadata": {},
   "outputs": [],
   "source": [
    "a=gtts.gTTS('Time to wake up')\n",
    "a.save('Time to wake up.mp3')\n",
    "playsound('Time to wake up.mp3')"
   ]
  },
  {
   "cell_type": "markdown",
   "id": "74388307",
   "metadata": {},
   "source": [
    "write a code to check ip address of your system "
   ]
  },
  {
   "cell_type": "code",
   "execution_count": 20,
   "id": "cd2b8022",
   "metadata": {},
   "outputs": [
    {
     "name": "stdout",
     "output_type": "stream",
     "text": [
      "This host name is DESKTOP-TTJBQJC and computer ipaddress is 192.168.0.103\n"
     ]
    }
   ],
   "source": [
    "import socket\n",
    "\n",
    "hostname=socket.gethostname()\n",
    "ipaddress=socket.gethostbyname(hostname)\n",
    "print(\"This host name is {} and computer ipaddress is {}\".format(hostname,ipaddress))"
   ]
  },
  {
   "cell_type": "code",
   "execution_count": 22,
   "id": "00c0236c",
   "metadata": {},
   "outputs": [],
   "source": [
    "def Lenth_count(string):\n",
    "    count=0\n",
    "    for i in string:\n",
    "        count=count+1\n",
    "    return count"
   ]
  },
  {
   "cell_type": "code",
   "execution_count": 24,
   "id": "096dbf9d",
   "metadata": {},
   "outputs": [
    {
     "data": {
      "text/plain": [
       "29"
      ]
     },
     "execution_count": 24,
     "metadata": {},
     "output_type": "execute_result"
    }
   ],
   "source": [
    "Lenth_count('adnofndnavonadovnodnvnanvndav')"
   ]
  },
  {
   "cell_type": "code",
   "execution_count": 43,
   "id": "328dc2a2",
   "metadata": {},
   "outputs": [
    {
     "name": "stdout",
     "output_type": "stream",
     "text": [
      "0 1\n",
      "1 2\n",
      "2 3\n",
      "3 4\n",
      "4 4\n",
      "5 [1, 2, 3]\n"
     ]
    }
   ],
   "source": [
    "a=[1,2,3,4,4,[1,2,3]]\n",
    "\n",
    "\n",
    "def Print_index(input):\n",
    "    \"\"\"\n",
    "    String :- Enter the string you want to print with index.\n",
    "    \"\"\"\n",
    "    for i in range(len(input)):\n",
    "        print(i,a[i])\n",
    "        \n",
    "Print_index(a)\n",
    "\n"
   ]
  },
  {
   "cell_type": "code",
   "execution_count": 58,
   "id": "191ec7cb",
   "metadata": {},
   "outputs": [],
   "source": [
    "def test(**kwargs):\n",
    "    l=[]\n",
    "    for key, value in kwargs.items():\n",
    "        l.append([key,value])\n",
    "    return l\n",
    "                "
   ]
  },
  {
   "cell_type": "code",
   "execution_count": 61,
   "id": "1a75478d",
   "metadata": {},
   "outputs": [
    {
     "data": {
      "text/plain": [
       "[['k1', 10], ['k2', 20], ['k3', 10]]"
      ]
     },
     "execution_count": 61,
     "metadata": {},
     "output_type": "execute_result"
    }
   ],
   "source": [
    "test(k1=10,k2=20,k3=10)"
   ]
  },
  {
   "cell_type": "code",
   "execution_count": 64,
   "id": "e7dac67b",
   "metadata": {},
   "outputs": [],
   "source": [
    "def test1(*args):\n",
    "    l=[]\n",
    "    for i in args:\n",
    "        if type(i)==list:\n",
    "            for j in i:\n",
    "                l.append(j)\n",
    "            \n",
    "    return l"
   ]
  },
  {
   "cell_type": "code",
   "execution_count": 65,
   "id": "806389f3",
   "metadata": {},
   "outputs": [
    {
     "data": {
      "text/plain": [
       "[1, 1, 22, 23, 23, 32, 32, 32, 23, 32, 32, 32, 32]"
      ]
     },
     "execution_count": 65,
     "metadata": {},
     "output_type": "execute_result"
    }
   ],
   "source": [
    "test1([1,1,22,],[23,23,32,32,32],[23,32,32,32,32])"
   ]
  },
  {
   "cell_type": "code",
   "execution_count": 84,
   "id": "97eda0a4",
   "metadata": {},
   "outputs": [
    {
     "name": "stdout",
     "output_type": "stream",
     "text": [
      "Enter your path from where you want to read the file'C:\\\\Users\n"
     ]
    }
   ],
   "source": [
    "import os\n",
    "os.getcwd()\n",
    "\n",
    "path=input(\"Enter your path from where you want to read the file\")\n",
    "\n",
    "def File_Directory(path):\n",
    "    l=[]\n",
    "    for i in os.listdir(path):\n",
    "        l.append(i)\n",
    "    return l\n",
    "        \n"
   ]
  },
  {
   "cell_type": "code",
   "execution_count": 97,
   "id": "4bfd8272",
   "metadata": {},
   "outputs": [
    {
     "data": {
      "text/plain": [
       "['.anaconda',\n",
       " '.conda',\n",
       " '.condarc',\n",
       " '.continuum',\n",
       " '.ipynb_checkpoints',\n",
       " '.ipython',\n",
       " '.jupyter',\n",
       " '.matplotlib',\n",
       " '.python_history',\n",
       " 'anaconda3',\n",
       " 'anubhav',\n",
       " 'AppData',\n",
       " 'Application Data',\n",
       " 'assignement.ipynb',\n",
       " 'Assignment 3.ipynb',\n",
       " 'Cookies',\n",
       " 'Desktop',\n",
       " 'Downloads',\n",
       " 'Favorites',\n",
       " 'Hello world.mp3',\n",
       " 'hello.mp3',\n",
       " 'how are you today.mp3',\n",
       " 'IntelGraphicsProfiles',\n",
       " 'kumar',\n",
       " 'Local Settings',\n",
       " 'May 28 class assignment .ipynb',\n",
       " 'MicrosoftEdgeBackups',\n",
       " 'Music',\n",
       " 'My Documents',\n",
       " 'NetHood',\n",
       " 'NTUSER.DAT',\n",
       " 'ntuser.dat.LOG1',\n",
       " 'ntuser.dat.LOG2',\n",
       " 'NTUSER.DAT{53b39e88-18c4-11ea-a811-000d3aa4692b}.TM.blf',\n",
       " 'NTUSER.DAT{53b39e88-18c4-11ea-a811-000d3aa4692b}.TMContainer00000000000000000001.regtrans-ms',\n",
       " 'NTUSER.DAT{53b39e88-18c4-11ea-a811-000d3aa4692b}.TMContainer00000000000000000002.regtrans-ms',\n",
       " 'ntuser.ini',\n",
       " 'OneDrive',\n",
       " 'Pictures',\n",
       " 'PrintHood',\n",
       " 'Recent',\n",
       " 'SendTo',\n",
       " 'Start Menu',\n",
       " 'Templates',\n",
       " 'Time to wake up.mp3',\n",
       " 'Tracing',\n",
       " 'Untitled.ipynb',\n",
       " 'Untitled1.ipynb',\n",
       " 'Untitled10.ipynb',\n",
       " 'Untitled11.ipynb',\n",
       " 'Untitled12.ipynb',\n",
       " 'Untitled13.ipynb',\n",
       " 'Untitled14.ipynb',\n",
       " 'Untitled15.ipynb',\n",
       " 'Untitled16.ipynb',\n",
       " 'Untitled17.ipynb',\n",
       " 'Untitled18.ipynb',\n",
       " 'Untitled19.ipynb',\n",
       " 'Untitled2.ipynb',\n",
       " 'Untitled3.ipynb',\n",
       " 'Untitled4.ipynb',\n",
       " 'Untitled5.ipynb',\n",
       " 'Untitled6.ipynb',\n",
       " 'Untitled7.ipynb',\n",
       " 'Untitled8.ipynb',\n",
       " 'Untitled9.ipynb',\n",
       " 'Videos',\n",
       " 'Welcome.mp3']"
      ]
     },
     "execution_count": 97,
     "metadata": {},
     "output_type": "execute_result"
    }
   ],
   "source": [
    "File_Directory('C:\\\\Users\\\\welcome')"
   ]
  },
  {
   "cell_type": "code",
   "execution_count": 114,
   "id": "0c776639",
   "metadata": {},
   "outputs": [],
   "source": [
    "def filter_word_files(directory):\n",
    "  for root, dirs, files in os.walk(directory):\n",
    "    for filename in files:\n",
    "        if filename.endswith(('.doc', '.docx')):\n",
    "            print(filename)\n",
    "\n",
    "filter_word_files(\"/content\")\n",
    "         \n",
    "\n"
   ]
  },
  {
   "cell_type": "code",
   "execution_count": 93,
   "id": "f4ef68a1",
   "metadata": {},
   "outputs": [
    {
     "data": {
      "text/plain": [
       "'C:\\\\Users\\\\welcome'"
      ]
     },
     "execution_count": 93,
     "metadata": {},
     "output_type": "execute_result"
    }
   ],
   "source": [
    "os.getcwd()"
   ]
  }
 ],
 "metadata": {
  "kernelspec": {
   "display_name": "Python 3 (ipykernel)",
   "language": "python",
   "name": "python3"
  },
  "language_info": {
   "codemirror_mode": {
    "name": "ipython",
    "version": 3
   },
   "file_extension": ".py",
   "mimetype": "text/x-python",
   "name": "python",
   "nbconvert_exporter": "python",
   "pygments_lexer": "ipython3",
   "version": "3.9.7"
  }
 },
 "nbformat": 4,
 "nbformat_minor": 5
}
